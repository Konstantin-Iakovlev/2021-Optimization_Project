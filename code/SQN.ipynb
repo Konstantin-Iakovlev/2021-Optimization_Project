{
 "nbformat": 4,
 "nbformat_minor": 0,
 "metadata": {
  "colab": {
   "name": "Untitled0.ipynb",
   "provenance": [],
   "collapsed_sections": [],
   "authorship_tag": "ABX9TyMq1nSQCO3Rgk8hCMfczLJF",
   "include_colab_link": true
  },
  "kernelspec": {
   "name": "python3",
   "language": "python",
   "display_name": "Python 3"
  }
 },
 "cells": [
  {
   "cell_type": "markdown",
   "metadata": {
    "id": "view-in-github",
    "colab_type": "text"
   },
   "source": [
    "<a href=\"https://colab.research.google.com/github/Konstantin-Iakovlev/2021-Optimization_Project/blob/main/SQN.ipynb\" target=\"_parent\"><img src=\"https://colab.research.google.com/assets/colab-badge.svg\" alt=\"Open In Colab\"/></a>"
   ]
  },
  {
   "cell_type": "markdown",
   "metadata": {
    "id": "8oPeLXRHx1UV"
   },
   "source": [
    "### Stochastic Quasi Newton methods for Neural Networks "
   ]
  },
  {
   "cell_type": "code",
   "metadata": {
    "id": "mA9ro8zSx5xS"
   },
   "source": [
    "import numpy as np\n",
    "from matplotlib import pyplot as plt\n",
    "import jax.numpy as jnp\n",
    "from jax import jit, random"
   ],
   "execution_count": 98,
   "outputs": []
  },
  {
   "cell_type": "code",
   "execution_count": 99,
   "outputs": [
    {
     "name": "stdout",
     "output_type": "stream",
     "text": [
      "sqn iterations = 656\n",
      "Ok\n"
     ]
    }
   ],
   "source": [
    "\n",
    "class SQN_Optimizer:\n",
    "    def __init__(self):\n",
    "        self.M = 10\n",
    "        self.L = 10\n",
    "        self.N = 7000\n",
    "        self.n = 50\n",
    "        self.w1 = np.random.rand(self.n)\n",
    "        self.batch_grad_size = 50\n",
    "        self.batch_hess_size = 300\n",
    "        # Generate data\n",
    "        np.random.seed(1)\n",
    "        self.X = np.random.rand(self.N, self.n)\n",
    "        self.Y = np.random.rand(self.N)\n",
    "        # w^k\n",
    "        self.w_array = [self.w1.copy()]\n",
    "        # wt\n",
    "        self.wt_array = []\n",
    "        # learning rate\n",
    "        self.beta = 2\n",
    "        # EMA\n",
    "        self.mu = 1e-2\n",
    "        # correction pairs (sj, yj)\n",
    "        self.corr_pairs = []\n",
    "        # initialize real F(w1) = Q -- quality\n",
    "        self.Q_arr = [self.F_maker(np.arange(0, self.N))(self.w1)]\n",
    "        # precision of Q\n",
    "        self.eps = 1e-5\n",
    "\n",
    "    def f(self, w, S):\n",
    "        # print(type(S), S.shape, type(self.Y), self.Y.shape)\n",
    "        # print(np.exp(-self.X[S] @ w).shape)\n",
    "        # return (self.Y[S] - self.X[S] @ w) ** 2\n",
    "        # print('check: ', self.X[S] @ w)\n",
    "        return -self.Y[S] * np.log(1/(1 + np.exp(-self.X[S] @ w))) - \\\n",
    "               (1-self.Y[S]) * np.log(1 - 1/(1+np.exp(-self.X[S] @ w))) +\\\n",
    "               0.9 * np.linalg.norm(w) ** 2\n",
    "\n",
    "    def nabla_F(self, w, S):\n",
    "        res = np.zeros(w.shape)\n",
    "        for i in S:\n",
    "            res += -(1 / (1 + np.exp(-self.X[i] @ w)) - self.Y[i]) * self.X[i]\n",
    "        return res / self.batch_grad_size + 1.8 * w\n",
    "\n",
    "    def hess_F(self, w, S, s_arg):\n",
    "        res = np.zeros(w.shape)\n",
    "        for i in S:\n",
    "            # print('Xi w', self.X[i] @ w)\n",
    "            aux_hess = -1/(1 + np.exp(-self.X[i] @ w))*(1 - 1/(1 + np.exp(-self.X[i] @ w))) * (self.X[i] @ s_arg) * self.X[i]\n",
    "            res += aux_hess\n",
    "        return res / self.batch_hess_size + 1.8 * s_arg\n",
    "\n",
    "    def F_maker(self, S):\n",
    "        def F(w):\n",
    "            return (1 / S.shape[0]) * np.sum(self.f(w, S))\n",
    "        return F\n",
    "\n",
    "\n",
    "    def Ht(self, t):\n",
    "        st, yt = self.corr_pairs[-1]\n",
    "        H = (st @ yt) / (yt @ yt) * np.eye(st.shape[0])\n",
    "        # print(f'corr pairs len is {len(self.corr_pairs)}')\n",
    "        # print(f'min = {t, self.M, min(t, self.M)}')\n",
    "        I = np.eye(st.shape[0])\n",
    "        for sj, yj in self.corr_pairs[-min(t, self.M):]:\n",
    "            rhoj = 1 / (yj @ sj)\n",
    "            # BFGS formula\n",
    "            H = (I - rhoj*np.outer(sj, yj)) @ H @ (I - rhoj*np.outer(yj, sj)) + rhoj*np.outer(sj, sj)\n",
    "        # print('Ht', np.linalg.norm(H))\n",
    "        return H\n",
    "\n",
    "\n",
    "    def sqn_optimize(self):\n",
    "        # num of iterations\n",
    "        iter_num = int(5000)\n",
    "        t = -1\n",
    "        self.wt_array.append(np.zeros((self.w1.shape[0],)))\n",
    "        # print(self.wt_array[-1])\n",
    "        k = 1 # iteration counter\n",
    "        while k <= iter_num:\n",
    "            S = np.random.choice(self.N, size=self.batch_grad_size)\n",
    "            # dF = grad(self.F_maker(S))\n",
    "            self.wt_array[-1] += self.w_array[-1]\n",
    "            if k <= 2 * self.L:\n",
    "                # print('w_array', self.w_array[-1])\n",
    "                # print(f'k = {k}')\n",
    "                self.w_array.append(self.w_array[-1] - (self.beta / k) * self.nabla_F(self.w_array[-1], S))\n",
    "            else:\n",
    "                self.w_array.append(self.w_array[-1] -\n",
    "                            (self.beta/ k) * self.Ht(t) @ self.nabla_F(self.w_array[-1], S))\n",
    "                # print('w^k', self.w_array[-1])\n",
    "                # print('dF(wk)', self.nabla_F(self.w_array[-1], S))\n",
    "                # print(f'k = {k}')\n",
    "            if k % self.L == 0:\n",
    "                # print(\"% == 0\")\n",
    "                t += 1\n",
    "                self.wt_array[-1] /= self.L\n",
    "                if t > 0:\n",
    "                    Sh = np.random.choice(self.N, size=self.batch_hess_size)\n",
    "                    # hessF = hessian(self.F_maker(Sh))\n",
    "                    st = self.wt_array[-1] - self.wt_array[-2]\n",
    "                    yt = self.hess_F(self.wt_array[-1], Sh, st)\n",
    "                    # print('wt = ', self.wt_array[-1])\n",
    "                    # print('yt = ', yt)\n",
    "                    self.corr_pairs.append((st, yt))\n",
    "                self.wt_array.append(np.zeros((self.w1.shape[0],)))\n",
    "\n",
    "            self.Q_arr.append(self.mu*self.F_maker(S)(self.w_array[-1]) + (1-self.mu)*self.Q_arr[-1])\n",
    "            if abs(self.Q_arr[-1] - self.Q_arr[-2]) < self.eps:\n",
    "                print(f'sqn iterations = {k}')\n",
    "                break\n",
    "            k += 1\n",
    "\n",
    "    def sgd_optimize(self):\n",
    "        iter_num = int(5000)\n",
    "        k = 1\n",
    "        while k <= iter_num:\n",
    "            S = random.choice(random.PRNGKey(np.random.randint(1)),self.N, shape=(self.batch_grad_size,))\n",
    "            self.w_array.append(self.w_array[-1] - (self.beta / k)*self.nabla_F(self.w_array[-1], S))\n",
    "            self.Q_arr.append(self.mu*self.F_maker(S)(self.w_array[-1]) + (1-self.mu)*self.Q_arr[-1])\n",
    "            if abs(self.Q_arr[-1] - self.Q_arr[-2]) < self.eps:\n",
    "                print(f'sgd_opt iter = {k}')\n",
    "                break\n",
    "            k += 1\n",
    "\n",
    "    def clear(self):\n",
    "        self.Q_arr = [self.F_maker(np.arange(0, self.N))(self.w1)]\n",
    "        self.wt_array = []\n",
    "        self.w_array = [self.w1]\n",
    "# TEST\n",
    "np.random.seed(1)\n",
    "sqn_opt = SQN_Optimizer()\n",
    "sqn_opt.sqn_optimize()\n",
    "print(\"Ok\")\n",
    "\n"
   ],
   "metadata": {
    "collapsed": false,
    "pycharm": {
     "name": "#%%\n"
    }
   }
  },
  {
   "cell_type": "code",
   "execution_count": 100,
   "outputs": [
    {
     "name": "stdout",
     "output_type": "stream",
     "text": [
      "sgd_opt iter = 980\n"
     ]
    },
    {
     "data": {
      "text/plain": "<matplotlib.legend.Legend at 0x7fed14ee96a0>"
     },
     "execution_count": 100,
     "metadata": {},
     "output_type": "execute_result"
    },
    {
     "data": {
      "text/plain": "<Figure size 720x576 with 1 Axes>",
      "image/png": "[encoded data removed]"
     },
     "metadata": {
      "needs_background": "light"
     },
     "output_type": "display_data"
    }
   ],
   "source": [
    "plt.figure(figsize=(10, 8))\n",
    "plt.plot(sqn_opt.Q_arr, label='SQN')\n",
    "sqn_opt.clear()\n",
    "sqn_opt.sgd_optimize()\n",
    "plt.plot(sqn_opt.Q_arr, label='SGD')\n",
    "plt.legend()\n",
    "# print(np.array(sqn_opt.Q_arr))\n",
    "# print(np.array(sqn_opt.wt_array))"
   ],
   "metadata": {
    "collapsed": false,
    "pycharm": {
     "name": "#%%\n"
    }
   }
  },
  {
   "cell_type": "code",
   "execution_count": 33,
   "outputs": [
    {
     "name": "stdout",
     "output_type": "stream",
     "text": [
      "[3.94500638 5.4432822  6.22909548 6.42316951 6.6582369  6.85316773\n",
      " 6.96810928 7.09960708 7.13216786 7.18485194 7.28514074 7.28827849\n",
      " 7.35406856 7.39917803 7.42469481 7.44804216 7.46912477 7.51271537\n",
      " 7.5299597  7.54505331 7.57279528 7.6768868  7.74035926 7.88366394\n",
      " 8.05836931 8.10031265 8.27578606 8.34701249 8.370324   8.32896235\n",
      " 8.3323169  8.37386788 8.37087669 8.34439354 8.40297692 8.46699479\n",
      " 8.44257042 8.47258213 8.55744524 8.57396104 8.61327153 8.59154448\n",
      " 8.58057788 8.60806579 8.59255844 8.56316187 8.57140215 8.59723093\n",
      " 8.6235089  8.64695716 8.68454399]\n"
     ]
    }
   ],
   "source": [
    "print(np.array([np.linalg.norm(w) for w in sqn_opt.w_array]))"
   ],
   "metadata": {
    "collapsed": false,
    "pycharm": {
     "name": "#%%\n"
    }
   }
  },
  {
   "cell_type": "code",
   "execution_count": 85,
   "outputs": [
    {
     "data": {
      "text/plain": "Buffer([1, 1, 2], dtype=int32)"
     },
     "execution_count": 85,
     "metadata": {},
     "output_type": "execute_result"
    }
   ],
   "source": [],
   "metadata": {
    "collapsed": false,
    "pycharm": {
     "name": "#%%\n"
    }
   }
  }
 ]
}