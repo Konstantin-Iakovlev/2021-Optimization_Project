{
 "nbformat": 4,
 "nbformat_minor": 0,
 "metadata": {
  "colab": {
   "name": "Untitled0.ipynb",
   "provenance": [],
   "collapsed_sections": [],
   "authorship_tag": "ABX9TyMq1nSQCO3Rgk8hCMfczLJF",
   "include_colab_link": true
  },
  "kernelspec": {
   "name": "python3",
   "language": "python",
   "display_name": "Python 3"
  }
 },
 "cells": [
  {
   "cell_type": "markdown",
   "metadata": {
    "id": "view-in-github",
    "colab_type": "text"
   },
   "source": [
    "<a href=\"https://colab.research.google.com/github/Konstantin-Iakovlev/2021-Optimization_Project/blob/main/SQN.ipynb\" target=\"_parent\"><img src=\"https://colab.research.google.com/assets/colab-badge.svg\" alt=\"Open In Colab\"/></a>"
   ]
  },
  {
   "cell_type": "markdown",
   "metadata": {
    "id": "8oPeLXRHx1UV"
   },
   "source": [
    "### Stochastic Quasi Newton methods for Neural Networks "
   ]
  },
  {
   "cell_type": "code",
   "metadata": {
    "id": "mA9ro8zSx5xS"
   },
   "source": [
    "import numpy as np\n",
    "from stochqn import oLBFGS\n",
    "from stochqn import SQN\n",
    "from sklearn.linear_model._logistic import _logistic_loss_and_grad, _logistic_grad_hess\n",
    "from sklearn.datasets import load_digits\n",
    "from sklearn.metrics import log_loss, accuracy_score\n",
    "from sklearn.model_selection import train_test_split\n",
    "from sklearn.preprocessing import StandardScaler\n",
    "from matplotlib import pyplot as plt\n",
    "import seaborn as sns\n",
    "sns.set()"
   ],
   "execution_count": 111,
   "outputs": []
  },
  {
   "cell_type": "code",
   "execution_count": null,
   "outputs": [],
   "source": [
    "def batch(iterable_X, iterable_y, n=1):\n",
    "    l = len(iterable_X)\n",
    "    for ndx in range(0, l, n):\n",
    "        yield iterable_X[ndx:min(ndx + n, l)], iterable_y[ndx:min(ndx + n, l)]\n",
    "\n",
    "def obj_fun(w, X, y, sample_weight=None, reg_param=1.0):\n",
    "    return _logistic_loss_and_grad(w, X, y, reg_param, sample_weight)[0]\n",
    "\n",
    "def grad_fun(w, X, y, sample_weight=None, reg_param=1.0):\n",
    "    # print(w.shape, X.shape, y.shape)\n",
    "    # (65,) (72, 64) (72,)\n",
    "    return _logistic_loss_and_grad(w, X, y, reg_param, sample_weight)[1]\n",
    "\n",
    "def hess_fun(w, vec, X, y, sample_weight=None, reg_param=1.0):\n",
    "    return _logistic_grad_hess(w, X, y, reg_param, sample_weight)[1](vec)\n",
    "\n",
    "def pred_fun(w, X):\n",
    "\treturn 1 / (1 + np.exp(-X.dot(w[:X.shape[1]]) - w[-1]))\n",
    "\n",
    "digits = load_digits()\n",
    "X = digits[\"data\"]\n",
    "y = (digits[\"target\"] == 3).astype('int64') ### picked one class at random\n",
    "scaler = StandardScaler()\n",
    "X = scaler.fit_transform(X)\n",
    "print(f'X shape = {X.shape}')\n",
    "X_train, X_test, y_train, y_test = train_test_split(X, y, test_size=0.1)\n",
    "\n",
    "np.random.seed(1)\n",
    "w0 = np.random.normal(size = X.shape[1] + 1)\n",
    "\n",
    "\n",
    "optimizer = oLBFGS(x0=w0, grad_fun=grad_fun, obj_fun=obj_fun, nepochs=1,\n",
    "                   pred_fun=pred_fun, step_size=5e-6)\n",
    "sqn_optimizer = SQN(x0=w0, grad_fun=grad_fun, obj_fun=obj_fun, nepochs=1,\n",
    "                    pred_fun=pred_fun, hess_vec_fun=hess_fun, step_size=5e-6)\n",
    "Q_arr = []\n",
    "Q_sgd = []\n",
    "Q_sqn = []\n",
    "for i in range(200):\n",
    "    optimizer.partial_fit(X_train, y_train,sample_weight=None,\n",
    "                          additional_kwargs={\"reg_param\" : 1.0})\n",
    "    Q_arr.append(log_loss(y_test, optimizer.predict(X_test)))\n",
    "for i in range(200):\n",
    "    sqn_optimizer.partial_fit(X_train, y_train,sample_weight=None,\n",
    "                          additional_kwargs={\"reg_param\" : 1.0})\n",
    "    Q_sqn.append(log_loss(y_test, sqn_optimizer.predict(X_test)))"
   ],
   "metadata": {
    "collapsed": false,
    "pycharm": {
     "name": "#%%\n"
    }
   }
  },
  {
   "cell_type": "code",
   "execution_count": 110,
   "outputs": [
    {
     "data": {
      "text/plain": "<Figure size 432x288 with 1 Axes>",
      "image/png": "[encoded data removed]"
     },
     "metadata": {},
     "output_type": "display_data"
    }
   ],
   "source": [
    "\n",
    "plt.plot(np.log(np.array(Q_arr)), label='oBFGS')\n",
    "plt.plot(np.log(np.array(Q_sqn)), label='SQN')\n",
    "plt.xlabel('Epoch')\n",
    "plt.ylabel('$\\log(Loss)$')\n",
    "plt.legend()\n",
    "plt.title('Basic experiment')\n",
    "plt.show()"
   ],
   "metadata": {
    "collapsed": false,
    "pycharm": {
     "name": "#%%\n"
    }
   }
  },
  {
   "cell_type": "markdown",
   "source": [
    "### Main experiment\n",
    "\n"
   ],
   "metadata": {
    "collapsed": false,
    "pycharm": {
     "name": "#%% md\n"
    }
   }
  },
  {
   "cell_type": "code",
   "execution_count": 117,
   "outputs": [
    {
     "name": "stdout",
     "output_type": "stream",
     "text": [
      "{'activation': 'relu', 'alpha': 1e-05, 'batch_size': 'auto', 'beta_1': 0.9, 'beta_2': 0.999, 'early_stopping': False, 'epsilon': 1e-08, 'hidden_layer_sizes': (5,), 'learning_rate': 'constant', 'learning_rate_init': 0.001, 'max_fun': 15000, 'max_iter': 200, 'momentum': 0.9, 'n_iter_no_change': 10, 'nesterovs_momentum': True, 'power_t': 0.5, 'random_state': 1, 'shuffle': True, 'solver': 'lbfgs', 'tol': 0.0001, 'validation_fraction': 0.1, 'verbose': False, 'warm_start': False}\n",
      "9.992007221626413e-16\n",
      "1.0\n"
     ]
    }
   ],
   "source": [
    "! git clone https://github.com/cthl/sqgn\n",
    "% cd sqgn/mnist_tf\n",
    "! python mnist_tf.py -opt_name sqn"
   ],
   "metadata": {
    "collapsed": false,
    "pycharm": {
     "name": "#%%\n"
    }
   }
  }
 ]
}