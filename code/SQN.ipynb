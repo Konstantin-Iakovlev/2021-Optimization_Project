{
 "nbformat": 4,
 "nbformat_minor": 0,
 "metadata": {
  "colab": {
   "name": "Untitled0.ipynb",
   "provenance": [],
   "collapsed_sections": [],
   "authorship_tag": "ABX9TyMq1nSQCO3Rgk8hCMfczLJF",
   "include_colab_link": true
  },
  "kernelspec": {
   "name": "python3",
   "language": "python",
   "display_name": "Python 3"
  }
 },
 "cells": [
  {
   "cell_type": "markdown",
   "metadata": {
    "id": "view-in-github",
    "colab_type": "text"
   },
   "source": [
    "<a href=\"https://colab.research.google.com/github/Konstantin-Iakovlev/2021-Optimization_Project/blob/main/SQN.ipynb\" target=\"_parent\"><img src=\"https://colab.research.google.com/assets/colab-badge.svg\" alt=\"Open In Colab\"/></a>"
   ]
  },
  {
   "cell_type": "markdown",
   "metadata": {
    "id": "8oPeLXRHx1UV"
   },
   "source": [
    "### Stochastic Quasi Newton methods for Neural Networks "
   ]
  },
  {
   "cell_type": "code",
   "metadata": {
    "id": "mA9ro8zSx5xS"
   },
   "source": [
    "import jax.numpy as jnp\n",
    "from jax import grad, hessian, jit, vmap\n",
    "from jax import random\n",
    "import numpy as np"
   ],
   "execution_count": 6,
   "outputs": []
  },
  {
   "cell_type": "code",
   "execution_count": null,
   "outputs": [],
   "source": [
    "class SQN_Optimizer:\n",
    "    def __init__(self, w1: jnp.array, M: jnp.int64, L: jnp.int64):\n",
    "        self.w1 = w1\n",
    "        self.M = M\n",
    "        self.L = L\n",
    "        self.N = 10000\n",
    "        self.batch_grad_size = 64\n",
    "        self.batch_hess_size = 64\n",
    "        # Generate data\n",
    "        np.random.seed(1)\n",
    "        self.X = np.random.rand(self.N, 20)\n",
    "        self.Y = np.random.rand(self.N)\n",
    "        # w^k\n",
    "        self.w_array = [self.w1.copy()]\n",
    "        self.wt_array = []\n",
    "        self.alpha = 1e-4\n",
    "\n",
    "    def f(self, w: jnp.array, i):\n",
    "        return (jnp.dot(w.T, self.X[i]) - self.Y[i]) ** 2\n",
    "\n",
    "    def F_maker(self, S: jnp.array):\n",
    "        def F(w: jnp.array):\n",
    "            return (1 / self.batch_grad_size) * jnp.sum(jnp.array([self.f(w, i) for i in S]))\n",
    "        return F\n",
    "\n",
    "    def Ht(self, t, M, pairs_arr):\n",
    "        pass\n",
    "\n",
    "    def optimize(self):\n",
    "        # num of iterations\n",
    "        iter_num = 1e3\n",
    "        t = -1\n",
    "        wt = jnp.zeros((self.w1.shape[0],))\n",
    "        self.wt_array.append(wt.copy())\n",
    "        for k in range(1, iter_num + 1):\n",
    "            S = random.choice(random.PRNGKey(np.random.randint(3, size=1)[0]), self.N, shape=(self.batch_grad_size,))\n",
    "            dF = grad(self.F_maker(S))\n",
    "            self.wt_array.append(self.wt_array[-1] + self.w_array[-1])\n",
    "            if k <= 2 * self.L:\n",
    "                self.w_array.append(self.w_array[-1] - self.alpha * dF(self.w_array[-1]))\n",
    "            else:\n",
    "                self.w_array.append(self.w_array[-1] -\n",
    "                            self.alpha * jnp.dot(self.Ht(t, self.M, jnp.array()), dF(self.w_array[-1])))\n",
    "            if k % self.L == 0:\n",
    "                t += 1\n",
    "                self.wt_array.append(self.wt_array[-1] / self.L)\n",
    "                if t > 0:\n",
    "                    Sh = random.choice(random.PRNGKey(np.random.randint(3, size=1)[0]), self.N, shape=(self.batch_hess_size,))\n",
    "                    hessF = hessian(self.F_maker(Sh))\n",
    "                    st = self.wt_array[-1] - self.wt_array[-2]\n",
    "                    yt = jnp.dot(hessF(self.wt_array[-1]), st)\n",
    "                self.wt_array[-1] = jnp.zeros((self.w1.shape[0],))"
   ],
   "metadata": {
    "collapsed": false,
    "pycharm": {
     "name": "#%%\n"
    }
   }
  }
 ]
}